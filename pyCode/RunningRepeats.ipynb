{
 "cells": [
  {
   "cell_type": "code",
   "execution_count": null,
   "metadata": {},
   "outputs": [],
   "source": [
    "import os\n",
    "import sys\n",
    "\n",
    "pfam_dir = '/home/as974/ada/repeatsProject/PF00023_test'\n",
    "pfam = 'PF00023'"
   ]
  },
  {
   "cell_type": "code",
   "execution_count": null,
   "metadata": {},
   "outputs": [],
   "source": [
    "# running r script\n",
    "os.system(\"Rscript ../rCode/rRepeatsPipeline.R \" + pfam_dir + \" \" + pfam)"
   ]
  },
  {
   "cell_type": "code",
   "execution_count": null,
   "metadata": {},
   "outputs": [],
   "source": [
    "# running py script\n",
    "os.system(\"python pyRepeatsPipeline.py \" + pfam_dir + \" \" + pfam)"
   ]
  },
  {
   "cell_type": "code",
   "execution_count": null,
   "metadata": {},
   "outputs": [],
   "source": [
    "# running r generating histograms\n",
    "os.system(\"Rscript ../rCode/plotting_histograms.R \" + pfam_dir + \" \" + pfam)"
   ]
  },
  {
   "cell_type": "code",
   "execution_count": null,
   "metadata": {},
   "outputs": [],
   "source": [
    "# generating bash script\n",
    "os.system('python generating_bash_scripts.py ' + pfam_dir + \" \" + pfam )"
   ]
  },
  {
   "cell_type": "code",
   "execution_count": 10,
   "metadata": {},
   "outputs": [],
   "source": [
    "# running bash script\n",
    "os.system('sbatch ' + pfam_dir + '/'+ pfam  +'_submit_cor.sh')"
   ]
  }
 ],
 "metadata": {
  "kernelspec": {
   "display_name": "Python 3",
   "language": "python",
   "name": "python3"
  },
  "language_info": {
   "codemirror_mode": {
    "name": "ipython",
    "version": 3
   },
   "file_extension": ".py",
   "mimetype": "text/x-python",
   "name": "python",
   "nbconvert_exporter": "python",
   "pygments_lexer": "ipython3",
   "version": "3.7.1"
  }
 },
 "nbformat": 4,
 "nbformat_minor": 2
}

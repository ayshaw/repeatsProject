{
 "cells": [
  {
   "cell_type": "code",
   "execution_count": 49,
   "metadata": {},
   "outputs": [
    {
     "name": "stdout",
     "output_type": "stream",
     "text": [
      "/n/groups/marks/users/ada/repeatsProject/pyCode\r\n"
     ]
    }
   ],
   "source": [
    "import os\n",
    "import sys\n",
    "import subprocess\n",
    "\n",
    "pfam_dir = \"/home/as974/ada/repeatsProject/APOE_HUMAN_test\"\n",
    "pfam = \"APOE_HUMAN\"\n",
    "!module load R/3.5.1\n",
    "repeats_dir = os.path.split(pfam_dir)[0]\n",
    "!pwd\n"
   ]
  },
  {
   "cell_type": "code",
   "execution_count": 66,
   "metadata": {},
   "outputs": [
    {
     "data": {
      "text/plain": [
       "'/n/groups/marks/software/anaconda_o2/bin/python /home/as974/ada/repeatsProject/pyCode/pyRepeatsPipeline.py \"/home/as974/ada/repeatsProject/APOE_HUMAN_test\" \"APOE_HUMAN\"'"
      ]
     },
     "execution_count": 66,
     "metadata": {},
     "output_type": "execute_result"
    }
   ],
   "source": [
    "\"/n/groups/marks/software/anaconda_o2/bin/python \" +repeats_dir+\"pyRepeatsPipeline.py \"  + pfam_dir + \" \" + pfam\n",
    "\"/n/groups/marks/software/anaconda_o2/bin/python \" +repeats_dir+\"/pyCode/pyRepeatsPipeline.py \\\"\" + pfam_dir + \"\\\" \\\"\" + pfam + \"\\\"\""
   ]
  },
  {
   "cell_type": "code",
   "execution_count": 47,
   "metadata": {},
   "outputs": [
    {
     "data": {
      "text/plain": [
       "0"
      ]
     },
     "execution_count": 47,
     "metadata": {},
     "output_type": "execute_result"
    }
   ],
   "source": [
    "# running r script\n",
    "os.system(\"/n/app/R/3.5.1/bin/Rscript \"+repeats_dir +\"/rCode/rRepeatsPipeline.R \\\"\" + pfam_dir + \"\\\" \\\"\" + pfam + \"\\\"\")\n",
    "\n"
   ]
  },
  {
   "cell_type": "code",
   "execution_count": 65,
   "metadata": {},
   "outputs": [
    {
     "data": {
      "text/plain": [
       "256"
      ]
     },
     "execution_count": 65,
     "metadata": {},
     "output_type": "execute_result"
    }
   ],
   "source": [
    "# running py script\n",
    "os.system(\"/n/groups/marks/software/anaconda_o2/bin/python \" +repeats_dir+\"/pyCode/pyRepeatsPipeline.py \\\"\" + pfam_dir + \"\\\" \\\"\" + pfam + \"\\\"\")\n",
    "#os.system(\"/n/groups/marks/software/anaconda_o2/bin/python \" +repeats_dir+\"pyRepeatsPipeline.py \"  + pfam_dir + \" \" + pfam)\n"
   ]
  },
  {
   "cell_type": "code",
   "execution_count": null,
   "metadata": {},
   "outputs": [],
   "source": [
    "# running r generating histograms\n",
    "os.system(\"/n/app/R/3.5.1/bin/Rscript \"+repeats_dir +\"/rCode/plotting_histograms.R \\\"\" + pfam_dir + \"\\\" \\\"\" + pfam + \"\\\"\")"
   ]
  },
  {
   "cell_type": "code",
   "execution_count": null,
   "metadata": {},
   "outputs": [],
   "source": [
    "# generating bash script\n",
    "os.system(\"/n/groups/marks/software/anaconda_o2/bin/python generating_bash_scripts.py \\\"\" + pfam_dir + \"\\\" \\\"\" + pfam + \"\\\"\")"
   ]
  },
  {
   "cell_type": "code",
   "execution_count": 10,
   "metadata": {},
   "outputs": [],
   "source": [
    "# running bash script\n",
    "os.system('sbatch ' + pfam_dir + '/'+ pfam  +'_submit_cor.sh')"
   ]
  }
 ],
 "metadata": {
  "kernelspec": {
   "display_name": "Python 3",
   "language": "python",
   "name": "python3"
  },
  "language_info": {
   "codemirror_mode": {
    "name": "ipython",
    "version": 3
   },
   "file_extension": ".py",
   "mimetype": "text/x-python",
   "name": "python",
   "nbconvert_exporter": "python",
   "pygments_lexer": "ipython3",
   "version": "3.6.4"
  }
 },
 "nbformat": 4,
 "nbformat_minor": 2
}

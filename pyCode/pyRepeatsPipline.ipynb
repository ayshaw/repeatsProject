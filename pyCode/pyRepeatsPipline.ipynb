{
 "cells": [
  {
   "cell_type": "markdown",
   "metadata": {},
   "source": [
    "# Python example \"RepeatsPipeline\":\n",
    "\n",
    "## inputs: \n",
    "### - PF0023_weights_py_input.txt \n",
    "- the output of the R code that has the unchanged sequence names/regions and repeat weights\n",
    "\n",
    "### - PF0023_2reps_py_input.txt \n",
    "- the output of the R code that has the 64 residue sequences and unchanged sequence names/regions\n",
    "\n",
    "## outputs:\n",
    "### - PF00023_newname_weights.txt \n",
    "- has plm.c readable sequence names and repeat weights\n",
    "\n",
    "### - PF00023_weights_plm_input.txt \n",
    "- just the repeat weights without the readable sequence names. \n",
    "- <span style=\"color:red\">weights input to the C code</span>.\n",
    "- I confirmed that it does not matter to use this method because the order is the same in the weights_newnames.txt and the input msa to plm.c\n",
    "\n",
    "### - PF00023_2reps_plm_input.txt \n",
    "- <span style=\"color:red\">MSA input to the plm.c</span> \n",
    "- has 64 residues and 91143 sequences\n",
    "\n",
    "###  - PF00023_submit.sh\n",
    "- runs plm.c "
   ]
  },
  {
   "cell_type": "code",
   "execution_count": 1,
   "metadata": {},
   "outputs": [],
   "source": [
    "# importing packages\n",
    "import re\n",
    "import os\n",
    "import pandas as pd\n",
    "import numpy as np"
   ]
  },
  {
   "cell_type": "code",
   "execution_count": 8,
   "metadata": {},
   "outputs": [
    {
     "name": "stdout",
     "output_type": "stream",
     "text": [
      "/Users/adashaw/Dropbox (Harvard University)/Debbie-Ada/repeatsProject/\n"
     ]
    }
   ],
   "source": [
    "directory = os.getcwd().split('pyCode')[0]\n",
    "print(directory)"
   ]
  },
  {
   "cell_type": "code",
   "execution_count": 2,
   "metadata": {},
   "outputs": [],
   "source": [
    "# INPUT: pfam\n",
    "pfam = \"PF00023\"\n",
    "try:\n",
    "    os.mkdir(directory+pfam+'/pyOutput/')\n",
    "    os.mkdir(directory+pfam+'/cOutput/')\n",
    "except: \n",
    "    print('directory already exists')"
   ]
  },
  {
   "cell_type": "code",
   "execution_count": 3,
   "metadata": {
    "scrolled": true
   },
   "outputs": [
    {
     "name": "stderr",
     "output_type": "stream",
     "text": [
      "/Users/adashaw/anaconda3/lib/python3.7/site-packages/ipykernel_launcher.py:2: ParserWarning: Falling back to the 'python' engine because the 'c' engine does not support regex separators (separators > 1 char and different from '\\s+' are interpreted as regex); you can avoid this warning by specifying engine='python'.\n",
      "  \n"
     ]
    }
   ],
   "source": [
    "# INPUT: PF0023_weights_py_input.txt\n",
    "df_repweights = pd.read_csv(directory+pfam+'/rOutput/'+pfam+'_weights_py_input.txt',header=None,delimiter='\\s',names=['names','weights'])\n",
    "df_repweights['names']=df_repweights['names'].str.replace('\"','')\n",
    "df_repweights['sequence_id'] = df_repweights['names'].str.split(r\"/[\\d']\",n=1,expand=True)[0]\n",
    "tmp = 'whatever'\n",
    "tmp2 = np.zeros_like(df_repweights.weights.values,dtype=int)\n",
    "num = 0\n",
    "for (index,row) in df_repweights.iterrows():\n",
    "        if row.sequence_id != tmp:\n",
    "            num = 0\n",
    "            tmp = row.sequence_id\n",
    "        num += 1\n",
    "        tmp2[index] = num\n",
    "df_repweights['repeat_num'] = tmp2\n",
    "df_repweights['new_names'] = df_repweights['sequence_id'].map(str) +'_'+ df_repweights['repeat_num'].map(str)+'/1-64'\n",
    "name_dict=dict(zip(df_repweights.names.values,df_repweights.new_names.values))\n",
    "\n",
    "## OUTPUT: PF00023_newname_weights.txt\n",
    "df_repweights[['new_names','weights']].to_csv(direcotry+pfam+'/pyOutput/'+pfam+'_newname_weights.txt',header=None,index=False)\n",
    "\n",
    "## OUTPUT: PF00023_weights_plm_input.txt\n",
    "df_repweights[['weights']].to_csv(directory+pfam+'/pyOutput/'+pfam+'_weights_plm_input.txt',header=None,index=False)\n",
    "\n",
    "## INPUT: PF0023_2reps_py_input.txt\n",
    "msa_file = directory+pfam+'/rOutput/'+pfam+'_2reps_py_input.txt'\n",
    "with open(msa_file,'r') as file:\n",
    "    all_lines=file.readlines()\n",
    "for (index,lines) in enumerate(all_lines):\n",
    "    if lines.startswith('>'):\n",
    "        all_lines[index] = all_lines[index].replace(all_lines[index][1:-1],name_dict[all_lines[index][1:-1]])\n",
    "\n",
    "## OUTPUT: PF00023_2reps_plm_input.txt\n",
    "with open(directory+pfam+'/pyOutput/'+pfam+'_2reps_plm_input.txt','w') as file:\n",
    "    file.writelines(all_lines)"
   ]
  },
  {
   "cell_type": "markdown",
   "metadata": {},
   "source": [
    "## <span style = \"color:gray\" >just confirming code works - not part of \"pipeline\" </span>"
   ]
  },
  {
   "cell_type": "code",
   "execution_count": null,
   "metadata": {},
   "outputs": [],
   "source": [
    "# make sure the order of the msa matches the orders of the weights\n",
    "\n",
    "orderPreserved= True\n",
    "for (index,line) in enumerate(all_lines):\n",
    "    if (index%2==0):\n",
    "        if (line[1:-1]!=df_repweights.new_names.values[int(index/2)]):\n",
    "            orderPreserved=False\n",
    "            print(line[1:],df_repweights.new_names.values[int(index/2)])\n",
    "if orderPreserved:\n",
    "    print('success you idiot')"
   ]
  },
  {
   "cell_type": "code",
   "execution_count": null,
   "metadata": {},
   "outputs": [],
   "source": [
    "# confirm that same sequence id values are all clustered together should get an array with only 1\n",
    "\n",
    "np.unique(df_repweights[['sequence_id','repeat_num']].pivot_table(index=['sequence_id','repeat_num'],aggfunc='size').values)"
   ]
  }
 ],
 "metadata": {
  "kernelspec": {
   "display_name": "Python 3",
   "language": "python",
   "name": "python3"
  },
  "language_info": {
   "codemirror_mode": {
    "name": "ipython",
    "version": 3
   },
   "file_extension": ".py",
   "mimetype": "text/x-python",
   "name": "python",
   "nbconvert_exporter": "python",
   "pygments_lexer": "ipython3",
   "version": "3.7.1"
  }
 },
 "nbformat": 4,
 "nbformat_minor": 2
}

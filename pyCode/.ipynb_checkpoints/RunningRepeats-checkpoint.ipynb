{
 "cells": [
  {
   "cell_type": "code",
   "execution_count": 28,
   "metadata": {},
   "outputs": [
    {
     "name": "stdout",
     "output_type": "stream",
     "text": [
      "/n/groups/marks/users/ada/repeatsProject/pyCode\n",
      "../rCode/rRepeatsPipeline.R\n"
     ]
    }
   ],
   "source": [
    "import os\n",
    "import sys\n",
    "\n",
    "\n",
    "pfam_dir = \"/home/as974/ada/repeatsProject/APOE_HUMAN_test\"\n",
    "pfam = \"APOE_HUMAN\"\n",
    "!module load R/3.5.1\n",
    "!pwd\n",
    "!ls ../rCode/rRepeatsPipeline.R"
   ]
  },
  {
   "cell_type": "code",
   "execution_count": 29,
   "metadata": {},
   "outputs": [
    {
     "name": "stdout",
     "output_type": "stream",
     "text": [
      "Rscript ../rCode/rRepeatsPipeline.R \"/home/as974/ada/repeatsProject/APOE_HUMAN_test\" \"APOE_HUMAN\"\n"
     ]
    }
   ],
   "source": [
    "print(\"Rscript ../rCode/rRepeatsPipeline.R \\\"\" + pfam_dir + \"\\\" \\\"\" + pfam + \"\\\"\")"
   ]
  },
  {
   "cell_type": "code",
   "execution_count": 24,
   "metadata": {},
   "outputs": [
    {
     "data": {
      "text/plain": [
       "32512"
      ]
     },
     "execution_count": 24,
     "metadata": {},
     "output_type": "execute_result"
    }
   ],
   "source": [
    "# running r script\n",
    "os.system(\"Rscript ../rCode/rRepeatsPipeline.R \\\"\" + pfam_dir + \"\\\" \\\"\" + pfam + \"\\\"\")"
   ]
  },
  {
   "cell_type": "code",
   "execution_count": null,
   "metadata": {},
   "outputs": [],
   "source": [
    "# running py script\n",
    "os.system(\"python pyRepeatsPipeline.py \\\"\" + pfam_dir + \"\\\" \\\"\" + pfam + \"\\\"\")"
   ]
  },
  {
   "cell_type": "code",
   "execution_count": null,
   "metadata": {},
   "outputs": [],
   "source": [
    "# running r generating histograms\n",
    "os.system(\"Rscript ../rCode/plotting_histograms.R \\\"\" + pfam_dir + \"\\\" \\\"\" + pfam + \"\\\"\")"
   ]
  },
  {
   "cell_type": "code",
   "execution_count": null,
   "metadata": {},
   "outputs": [],
   "source": [
    "# generating bash script\n",
    "os.system(\"python generating_bash_scripts.py \\\"\" + pfam_dir + \"\\\" \\\"\" + pfam + \"\\\"\")"
   ]
  },
  {
   "cell_type": "code",
   "execution_count": 10,
   "metadata": {},
   "outputs": [],
   "source": [
    "# running bash script\n",
    "os.system('sbatch ' + pfam_dir + '/'+ pfam  +'_submit_cor.sh')"
   ]
  }
 ],
 "metadata": {
  "kernelspec": {
   "display_name": "Python 3",
   "language": "python",
   "name": "python3"
  },
  "language_info": {
   "codemirror_mode": {
    "name": "ipython",
    "version": 3
   },
   "file_extension": ".py",
   "mimetype": "text/x-python",
   "name": "python",
   "nbconvert_exporter": "python",
   "pygments_lexer": "ipython3",
   "version": "3.6.4"
  }
 },
 "nbformat": 4,
 "nbformat_minor": 2
}

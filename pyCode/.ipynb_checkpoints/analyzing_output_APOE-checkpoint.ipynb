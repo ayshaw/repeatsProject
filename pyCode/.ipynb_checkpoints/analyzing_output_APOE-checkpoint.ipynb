{
 "cells": [
  {
   "cell_type": "code",
   "execution_count": 10,
   "metadata": {},
   "outputs": [],
   "source": [
    "%run -i CouplingsModel_1.py\n",
    "import matplotlib.lines as mlines\n",
    "import matplotlib.pyplot as plt\n",
    "import glob\n",
    "import pandas as pd\n",
    "\n",
    "from evcouplings.couplings import read_raw_ec_file\n",
    "from evcouplings.compare import (\n",
    "    PDB, DistanceMap, SIFTS, intra_dists,\n",
    "    multimer_dists, coupling_scores_compared\n",
    ")\n",
    "\n",
    "from evcouplings.visualize import plot_contact_map, plot_context\n",
    "from evcouplings.visualize.pairs import plot_pairs, scale\n",
    "direc = '/home/as974/ada'\n",
    "#direc = '/Users/adashaw/Dropbox (Harvard University)/Debbie-Ada'\n",
    "\n",
    "def scale_01(a):\n",
    "    return (a - np.min(a))/np.ptp(a)\n",
    "def plot_top_n(z,n,mod = 'corrected'):\n",
    "    z[z<np.sort(z.flatten())[::-1][n-1]] = 0\n",
    "    zscal = scale_01(z)\n",
    "    if mod == 'corrected':\n",
    "        zscal[np.triu_indices(len(zscal))] = 0\n",
    "        for r in range(len(z)):\n",
    "            for c in range(len(z)):\n",
    "                plt.scatter(r,c,s=zscal[r,c]*100,c='g')\n",
    "    else:\n",
    "        zscal[np.tril_indices(len(zscal))] = 0\n",
    "        for r in range(len(z)):\n",
    "            for c in range(len(z)):\n",
    "                plt.scatter(r,c,s=zscal[r,c]*100,c='r')\n",
    "    plt.axis('square')\n",
    "    plt.axis([-1,len(zscal),-1,len(zscal)])\n",
    "    plt.gca().invert_xaxis()\n",
    "\n",
    "\n",
    "def plot_top_n_contacts(file, mod = 'cor'):\n",
    "    df = read_raw_ec_file(file)\n",
    "    df['i'] += 80\n",
    "    df['j'] += 80\n",
    "    df['cn_scaled'] = scale_01(df.cn)\n",
    "    for index,row in df.nlargest(100,'cn').iterrows():\n",
    "        if abs(row.i-row.j)>1:\n",
    "            if mod == 'cor':\n",
    "                plt.scatter(row.i,row.j,s=row.cn_scaled*50,c='g')\n",
    "            else:\n",
    "                plt.scatter(row.j,row.i,s=row.cn_scaled*50,c='r')\n",
    "    plt.axis('square')"
   ]
  },
  {
   "cell_type": "code",
   "execution_count": null,
   "metadata": {},
   "outputs": [],
   "source": [
    "s = SIFTS(\"/n/groups/marks/databases/SIFTS/pdb_chain_uniprot_plus_current.o2.csv\", \"/n/groups/marks/databases/SIFTS/pdb_chain_uniprot_plus_current.o2.fasta\")"
   ]
  },
  {
   "cell_type": "code",
   "execution_count": null,
   "metadata": {
    "scrolled": true
   },
   "outputs": [],
   "source": [
    "selected_structures = s.by_alignment(\n",
    "    reduce_chains=True, sequence_id=\"APOE_HUMAN\", region=(80, 123),\n",
    "    jackhmmer=\"/n/groups/marks/pipelines/evcouplings/software/hmmer-3.1b2-linux-intel-x86_64/binaries/jackhmmer\",\n",
    ")\n",
    "\n",
    "distmap_intra = intra_dists(selected_structures)\n",
    "distmap_multimer = multimer_dists(selected_structures)\n",
    "\n",
    "STYLE_CONTACT = {\n",
    "    \"edgecolor\": \"none\",\n",
    "    \"c\": \"#b6d4e9\",\n",
    "    \"s\": 100,\n",
    "}\n",
    "scale_func = lambda x: x#scale(x, ax=None)\n"
   ]
  },
  {
   "cell_type": "code",
   "execution_count": null,
   "metadata": {},
   "outputs": [],
   "source": [
    "files = glob.glob('/home/as974/ada/repeatsProject/APOE_HUMAN_full_rerun_b025/cOutput/*ECscores*.txt')\n",
    "files"
   ]
  },
  {
   "cell_type": "code",
   "execution_count": null,
   "metadata": {},
   "outputs": [],
   "source": [
    "plt.figure(figsize=[8,8])\n",
    "plot_pairs(distmap_intra.contacts(),symmetric=False, style=scale_func(STYLE_CONTACT))\n",
    "plot_top_n_contacts(files[0])\n",
    "plot_top_n_contacts(files[1],mod='uncor')\n",
    "plt.gca().invert_xaxis()\n",
    "red = mlines.Line2D([], [], color='r', marker='o', linestyle='None', markersize=10, label='uncorrected')\n",
    "green = mlines.Line2D([], [], color='g', marker='o', linestyle='None', markersize=10, label='corrected')\n",
    "plt.legend(handles=[red,green],loc='lower left',frameon=False)"
   ]
  },
  {
   "cell_type": "markdown",
   "metadata": {},
   "source": [
    "## defunct stuff"
   ]
  },
  {
   "cell_type": "code",
   "execution_count": 18,
   "metadata": {},
   "outputs": [],
   "source": [
    "correctedModel = CouplingsModel_1(direc+'/repeatsProject/PF00023/cOutput/PF00023.model')\n",
    "uncorrectedModel = CouplingsModel_1(direc+'/repeatsProject/PF00023/cOutput/PF00023_no_correction.model')"
   ]
  },
  {
   "cell_type": "code",
   "execution_count": 10,
   "metadata": {
    "scrolled": false
   },
   "outputs": [
    {
     "data": {
      "image/png": "[encoded data removed]",
      "text/plain": [
       "<Figure size 432x288 with 1 Axes>"
      ]
     },
     "metadata": {
      "needs_background": "light"
     },
     "output_type": "display_data"
    }
   ],
   "source": [
    "plot_top_n(uncorrectedModel.cn_scores,100,mod='uncorrected')\n",
    "plot_top_n(correctedModel.cn_scores,100)\n",
    "red = mlines.Line2D([], [], color='r', marker='o', linestyle='None', markersize=10, label='uncorrected')\n",
    "green = mlines.Line2D([], [], color='g', marker='o', linestyle='None', markersize=10, label='corrected')\n",
    "#plt.legend(handles=[red,green],loc='lower left',frameon=False)\n",
    "plt.show()"
   ]
  }
 ],
 "metadata": {
  "kernelspec": {
   "display_name": "Python 3",
   "language": "python",
   "name": "python3"
  },
  "language_info": {
   "codemirror_mode": {
    "name": "ipython",
    "version": 3
   },
   "file_extension": ".py",
   "mimetype": "text/x-python",
   "name": "python",
   "nbconvert_exporter": "python",
   "pygments_lexer": "ipython3",
   "version": "3.6.4"
  }
 },
 "nbformat": 4,
 "nbformat_minor": 2
}

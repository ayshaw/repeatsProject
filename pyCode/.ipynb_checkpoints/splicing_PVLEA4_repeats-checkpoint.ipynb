{
 "cells": [
  {
   "cell_type": "markdown",
   "metadata": {},
   "source": [
    "# load packages and functions"
   ]
  },
  {
   "cell_type": "code",
   "execution_count": 1,
   "metadata": {},
   "outputs": [],
   "source": [
    "import re\n",
    "import numpy as np\n",
    "import matplotlib.pyplot as plt\n",
    "import pandas as pd\n",
    "import os \n",
    "\n",
    "def readAlignment(file):\n",
    "    with open(file) as f:\n",
    "        lines = f.readlines()\n",
    "    line_numbers = [i for i in range(len(lines)) if '>' in lines[i] ]\n",
    "    names = [lines[i].replace('\\n','').replace('>','') for i in line_numbers]\n",
    "    sequences = [''.join(lines[i+1:i+3]).replace('\\n','') for i in line_numbers]\n",
    "    msa = np.zeros([len(names),len(sequences[0])+1],dtype=np.object_)   \n",
    "    msa[:,0] = names\n",
    "    for tick_l in range(len(sequences)):\n",
    "        msa[tick_l,1:] = list(sequences[tick_l])\n",
    "    return msa"
   ]
  },
  {
   "cell_type": "markdown",
   "metadata": {},
   "source": [
    "# INPUTS:\n",
    "- **repeats_start**: where in the alignment the repeats start\n",
    "- **r_len**: how many residues long are the repeats?"
   ]
  },
  {
   "cell_type": "code",
   "execution_count": 3,
   "metadata": {},
   "outputs": [],
   "source": [
    "repeats_start = [28,39,57,68,86,97,108]\n",
    "r_len = 11\n",
    "full_length_file = '/home/as974/ada/repeatsProject/PvLEA4_full_b0.35/PvLEA4_full_b0.35.a2m'\n"
   ]
  },
  {
   "cell_type": "markdown",
   "metadata": {},
   "source": [
    "# splicing the repeats"
   ]
  },
  {
   "cell_type": "code",
   "execution_count": 4,
   "metadata": {},
   "outputs": [
    {
     "data": {
      "text/html": [
       "<div>\n",
       "<style scoped>\n",
       "    .dataframe tbody tr th:only-of-type {\n",
       "        vertical-align: middle;\n",
       "    }\n",
       "\n",
       "    .dataframe tbody tr th {\n",
       "        vertical-align: top;\n",
       "    }\n",
       "\n",
       "    .dataframe thead th {\n",
       "        text-align: right;\n",
       "    }\n",
       "</style>\n",
       "<table border=\"1\" class=\"dataframe\">\n",
       "  <thead>\n",
       "    <tr style=\"text-align: right;\">\n",
       "      <th></th>\n",
       "      <th>name</th>\n",
       "      <th>1</th>\n",
       "      <th>2</th>\n",
       "      <th>3</th>\n",
       "      <th>4</th>\n",
       "      <th>5</th>\n",
       "      <th>6</th>\n",
       "      <th>7</th>\n",
       "      <th>8</th>\n",
       "      <th>9</th>\n",
       "      <th>...</th>\n",
       "      <th>134</th>\n",
       "      <th>135</th>\n",
       "      <th>136</th>\n",
       "      <th>137</th>\n",
       "      <th>138</th>\n",
       "      <th>139</th>\n",
       "      <th>140</th>\n",
       "      <th>141</th>\n",
       "      <th>142</th>\n",
       "      <th>143</th>\n",
       "    </tr>\n",
       "  </thead>\n",
       "  <tbody>\n",
       "    <tr>\n",
       "      <th>0</th>\n",
       "      <td>S6BNK7/1-143</td>\n",
       "      <td>m</td>\n",
       "      <td>v</td>\n",
       "      <td>k</td>\n",
       "      <td>q</td>\n",
       "      <td>d</td>\n",
       "      <td>n</td>\n",
       "      <td>l</td>\n",
       "      <td>d</td>\n",
       "      <td>q</td>\n",
       "      <td>...</td>\n",
       "      <td>m</td>\n",
       "      <td>k</td>\n",
       "      <td>s</td>\n",
       "      <td>d</td>\n",
       "      <td>k</td>\n",
       "      <td>n</td>\n",
       "      <td>k</td>\n",
       "      <td>n</td>\n",
       "      <td>c</td>\n",
       "      <td>c</td>\n",
       "    </tr>\n",
       "    <tr>\n",
       "      <th>1</th>\n",
       "      <td>UniRef100_A0A2P4V0U1/16-133</td>\n",
       "      <td>.</td>\n",
       "      <td>.</td>\n",
       "      <td>.</td>\n",
       "      <td>.</td>\n",
       "      <td>.</td>\n",
       "      <td>.</td>\n",
       "      <td>.</td>\n",
       "      <td>k</td>\n",
       "      <td>n</td>\n",
       "      <td>...</td>\n",
       "      <td>.</td>\n",
       "      <td>.</td>\n",
       "      <td>.</td>\n",
       "      <td>.</td>\n",
       "      <td>.</td>\n",
       "      <td>.</td>\n",
       "      <td>.</td>\n",
       "      <td>.</td>\n",
       "      <td>.</td>\n",
       "      <td>.</td>\n",
       "    </tr>\n",
       "    <tr>\n",
       "      <th>2</th>\n",
       "      <td>UniRef100_A0A2P4V0U1/200-313</td>\n",
       "      <td>.</td>\n",
       "      <td>.</td>\n",
       "      <td>.</td>\n",
       "      <td>.</td>\n",
       "      <td>.</td>\n",
       "      <td>.</td>\n",
       "      <td>.</td>\n",
       "      <td>.</td>\n",
       "      <td>.</td>\n",
       "      <td>...</td>\n",
       "      <td>.</td>\n",
       "      <td>.</td>\n",
       "      <td>.</td>\n",
       "      <td>.</td>\n",
       "      <td>.</td>\n",
       "      <td>.</td>\n",
       "      <td>.</td>\n",
       "      <td>.</td>\n",
       "      <td>.</td>\n",
       "      <td>.</td>\n",
       "    </tr>\n",
       "    <tr>\n",
       "      <th>3</th>\n",
       "      <td>UniRef100_A0A2P4V0U1/304-437</td>\n",
       "      <td>.</td>\n",
       "      <td>.</td>\n",
       "      <td>.</td>\n",
       "      <td>.</td>\n",
       "      <td>.</td>\n",
       "      <td>.</td>\n",
       "      <td>y</td>\n",
       "      <td>n</td>\n",
       "      <td>q</td>\n",
       "      <td>...</td>\n",
       "      <td>v</td>\n",
       "      <td>e</td>\n",
       "      <td>d</td>\n",
       "      <td>t</td>\n",
       "      <td>k</td>\n",
       "      <td>d</td>\n",
       "      <td>k</td>\n",
       "      <td>.</td>\n",
       "      <td>.</td>\n",
       "      <td>.</td>\n",
       "    </tr>\n",
       "    <tr>\n",
       "      <th>4</th>\n",
       "      <td>UniRef100_A0A2P4V0U1/497-629</td>\n",
       "      <td>.</td>\n",
       "      <td>.</td>\n",
       "      <td>.</td>\n",
       "      <td>.</td>\n",
       "      <td>.</td>\n",
       "      <td>.</td>\n",
       "      <td>y</td>\n",
       "      <td>n</td>\n",
       "      <td>q</td>\n",
       "      <td>...</td>\n",
       "      <td>a</td>\n",
       "      <td>e</td>\n",
       "      <td>d</td>\n",
       "      <td>a</td>\n",
       "      <td>k</td>\n",
       "      <td>h</td>\n",
       "      <td>.</td>\n",
       "      <td>.</td>\n",
       "      <td>.</td>\n",
       "      <td>.</td>\n",
       "    </tr>\n",
       "  </tbody>\n",
       "</table>\n",
       "<p>5 rows × 144 columns</p>\n",
       "</div>"
      ],
      "text/plain": [
       "                           name  1  2  3  4  5  6  7  8  9 ... 134 135 136  \\\n",
       "0                  S6BNK7/1-143  m  v  k  q  d  n  l  d  q ...   m   k   s   \n",
       "1   UniRef100_A0A2P4V0U1/16-133  .  .  .  .  .  .  .  k  n ...   .   .   .   \n",
       "2  UniRef100_A0A2P4V0U1/200-313  .  .  .  .  .  .  .  .  . ...   .   .   .   \n",
       "3  UniRef100_A0A2P4V0U1/304-437  .  .  .  .  .  .  y  n  q ...   v   e   d   \n",
       "4  UniRef100_A0A2P4V0U1/497-629  .  .  .  .  .  .  y  n  q ...   a   e   d   \n",
       "\n",
       "  137 138 139 140 141 142 143  \n",
       "0   d   k   n   k   n   c   c  \n",
       "1   .   .   .   .   .   .   .  \n",
       "2   .   .   .   .   .   .   .  \n",
       "3   t   k   d   k   .   .   .  \n",
       "4   a   k   h   .   .   .   .  \n",
       "\n",
       "[5 rows x 144 columns]"
      ]
     },
     "execution_count": 4,
     "metadata": {},
     "output_type": "execute_result"
    }
   ],
   "source": [
    "msa = readAlignment(full_length_file)\n",
    "msa_df = pd.DataFrame(msa,columns = ['name']+list(map(str,np.arange(1,144)))) \n",
    "msa_df.head()"
   ]
  },
  {
   "cell_type": "code",
   "execution_count": 5,
   "metadata": {
    "scrolled": true
   },
   "outputs": [],
   "source": [
    "msa_df[['start','end']] = msa_df.name.str.split('/',expand = True)[1].str.split('-',expand=True)\n",
    "msa_df['name'] = msa_df.name.str.split('/',expand=True)[0]\n",
    "msa_df.head()"
   ]
  },
  {
   "cell_type": "code",
   "execution_count": 8,
   "metadata": {},
   "outputs": [],
   "source": [
    "repeats_msa_df = pd.DataFrame(columns=['name','start','end'] + list(map(str,np.arange(1,r_len+1))))\n",
    "for index,row in msa_df.iterrows():\n",
    "    for rs in repeats_start:\n",
    "        rep1 = row[['name'] + list(map(str,np.arange(rs,rs+r_len)))]\n",
    "        rep1['start'] = str(int(row['start']) + rs-1)\n",
    "        rep1['end'] = str(int(row['start']) + rs+r_len-1)\n",
    "        rep1.rename(dict(zip(list(map(str,np.arange(rs,rs+r_len))),list(map(str,np.arange(1,r_len+1))))), inplace=True)\n",
    "        repeats_msa_df = repeats_msa_df.append(rep1,ignore_index=True)"
   ]
  },
  {
   "cell_type": "code",
   "execution_count": 9,
   "metadata": {
    "scrolled": true
   },
   "outputs": [
    {
     "name": "stdout",
     "output_type": "stream",
     "text": [
      "15890 UniRef100_P0C5A4-2\n",
      "15891 UniRef100_P0C5A4-2\n",
      "15892 UniRef100_P0C5A4-2\n",
      "15893 UniRef100_P0C5A4-2\n",
      "15894 UniRef100_P0C5A4-2\n",
      "15895 UniRef100_P0C5A4-2\n",
      "15896 UniRef100_P0C5A4-2\n"
     ]
    }
   ],
   "source": [
    "# I felt like the '-' were messing up the parsing in plm.c \n",
    "for index,i in enumerate(repeats_msa_df.name):\n",
    "    if '-' in i:\n",
    "        print(index,i)"
   ]
  },
  {
   "cell_type": "code",
   "execution_count": 10,
   "metadata": {},
   "outputs": [],
   "source": [
    "repeats_msa_df.name = repeats_msa_df.name.str.replace('-','_')"
   ]
  },
  {
   "cell_type": "code",
   "execution_count": 12,
   "metadata": {},
   "outputs": [
    {
     "name": "stdout",
     "output_type": "stream",
     "text": [
      "pyOutput file already exists\n",
      "removed that shit!\n"
     ]
    }
   ],
   "source": [
    "# removing the existing files\n",
    "try:\n",
    "    os.mkdir('/home/as974/ada/repeatsProject/PvLEA4_full_b0.35/pyOutput')\n",
    "except:\n",
    "    print('pyOutput file already exists')\n",
    "try: \n",
    "    os.remove('/home/as974/ada/repeatsProject/PvLEA4_full_b0.35/PvLEA4.a2m')\n",
    "    print('removed!')\n",
    "except: print('never existed!')"
   ]
  },
  {
   "cell_type": "code",
   "execution_count": 13,
   "metadata": {},
   "outputs": [],
   "source": [
    "with open('/home/as974/ada/repeatsProject/PvLEA4_full_b0.35/PvLEA4.a2m','w') as file:\n",
    "    for index,row in repeats_msa_df.iterrows():\n",
    "        c = row.values\n",
    "        file.writelines('>' + c[0] + '/' + c[1] + '-' + c[2] + '\\n' + ''.join(c[3:]) + '\\n')                   "
   ]
  },
  {
   "cell_type": "markdown",
   "metadata": {},
   "source": [
    "# Don't have to run - just checking things"
   ]
  },
  {
   "cell_type": "code",
   "execution_count": 11,
   "metadata": {},
   "outputs": [],
   "source": [
    "# for index,i in enumerate(repeats_msa_df.name):\n",
    "#     if '-' in i:\n",
    "#         print(index,i)"
   ]
  }
 ],
 "metadata": {
  "kernelspec": {
   "display_name": "Python 3",
   "language": "python",
   "name": "python3"
  },
  "language_info": {
   "codemirror_mode": {
    "name": "ipython",
    "version": 3
   },
   "file_extension": ".py",
   "mimetype": "text/x-python",
   "name": "python",
   "nbconvert_exporter": "python",
   "pygments_lexer": "ipython3",
   "version": "3.6.4"
  }
 },
 "nbformat": 4,
 "nbformat_minor": 2
}

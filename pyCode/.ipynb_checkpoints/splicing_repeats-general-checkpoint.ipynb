{
 "cells": [
  {
   "cell_type": "markdown",
   "metadata": {},
   "source": [
    "# load packages and functions"
   ]
  },
  {
   "cell_type": "code",
   "execution_count": 5,
   "metadata": {},
   "outputs": [],
   "source": [
    "import re\n",
    "import numpy as np\n",
    "import matplotlib.pyplot as plt\n",
    "import pandas as pd\n",
    "import os \n",
    "\n",
    "def readAlignment(file):\n",
    "    with open(file) as f:\n",
    "        lines = f.readlines()\n",
    "    line_numbers = [i for i in range(len(lines)) if '>' in lines[i] ]\n",
    "    num_lines = abs(line_numbers[1]-line_numbers[0])\n",
    "    names = [lines[i].replace('\\n','').replace('>','') for i in line_numbers]\n",
    "    sequences = [''.join(lines[i+1:i+num_lines]).replace('\\n','') for i in line_numbers]\n",
    "    msa = np.zeros([len(names),len(sequences[0])+1],dtype=np.object_)   \n",
    "    msa[:,0] = names\n",
    "    for tick_l in range(len(sequences)):\n",
    "        msa[tick_l,1:] = list(sequences[tick_l])\n",
    "    return msa"
   ]
  },
  {
   "cell_type": "markdown",
   "metadata": {},
   "source": [
    "# INPUTS:\n",
    "- **repeats_start**: where in the alignment the repeats start\n",
    "- **r_len**: how many residues long are the repeats?"
   ]
  },
  {
   "cell_type": "code",
   "execution_count": 6,
   "metadata": {},
   "outputs": [],
   "source": [
    "repeats_start = [28,39,57,68,86,97,108]\n",
    "r_len = 11\n",
    "full_length_alignment = '/home/as974/ada/repeatsProject/PvLEA4_full_b0.35/PvLEA4_full_b0.35.a2m'\n",
    "pfam = 'PvLEA4'"
   ]
  },
  {
   "cell_type": "markdown",
   "metadata": {},
   "source": [
    "# splicing the repeats"
   ]
  },
  {
   "cell_type": "code",
   "execution_count": 5,
   "metadata": {},
   "outputs": [
    {
     "name": "stdout",
     "output_type": "stream",
     "text": [
      "/home/as974/ada/repeatsProject/PvLEA4_full_b0.35\n"
     ]
    }
   ],
   "source": [
    "pfam_dir = os.path.split(full_length_alignment)[0]\n",
    "\n",
    "msa = readAlignment(full_length_alignment)\n",
    "msa_df = pd.DataFrame(msa,columns = ['name']+list(map(str,np.arange(1,144)))) \n",
    "\n",
    "\n",
    "msa_df[['start','end']] = msa_df.name.str.split('/',expand = True)[1].str.split('-',expand=True)\n",
    "msa_df['name'] = msa_df.name.str.split('/',expand=True)[0]\n",
    "\n",
    "\n",
    "repeats_msa_df = pd.DataFrame(columns=['name','start','end'] + list(map(str,np.arange(1,r_len+1))))\n",
    "for index,row in msa_df.iterrows():\n",
    "    for rs in repeats_start:\n",
    "        rep1 = row[['name'] + list(map(str,np.arange(rs,rs+r_len)))]\n",
    "        rep1['start'] = str(int(row['start']) + rs-1)\n",
    "        rep1['end'] = str(int(row['start']) + rs+r_len-1)\n",
    "        rep1.rename(dict(zip(list(map(str,np.arange(rs,rs+r_len))),list(map(str,np.arange(1,r_len+1))))), inplace=True)\n",
    "        repeats_msa_df = repeats_msa_df.append(rep1,ignore_index=True)\n",
    "\n",
    "# I felt like the '-' were messing up the parsing in plm.c \n",
    "# for index,i in enumerate(repeats_msa_df.name):\n",
    "#     if '-' in i:\n",
    "#         print(index,i)\n",
    "\n",
    "repeats_msa_df.name = repeats_msa_df.name.str.replace('-','_')\n",
    "\n",
    "# removing the existing files\n",
    "try: \n",
    "    os.remove(pfam_dir + '/' + pfam + '.a2m')\n",
    "except: print(pfam_dir + '/' + pfam + '.a2m' + ' does not exist')\n",
    "\n",
    "# writing\n",
    "with open(pfam_dir + '/' + pfam + '.a2m','w') as file:\n",
    "    for index,row in repeats_msa_df.iterrows():\n",
    "        c = row.values\n",
    "        file.writelines('>' + c[0] + '/' + c[1] + '-' + c[2] + '\\n' + ''.join(c[3:]) + '\\n')                   "
   ]
  },
  {
   "cell_type": "markdown",
   "metadata": {},
   "source": [
    "# Don't have to run - just checking things"
   ]
  },
  {
   "cell_type": "code",
   "execution_count": 11,
   "metadata": {},
   "outputs": [],
   "source": [
    "# for index,i in enumerate(repeats_msa_df.name):\n",
    "#     if '-' in i:\n",
    "#         print(index,i)"
   ]
  }
 ],
 "metadata": {
  "kernelspec": {
   "display_name": "Python 3",
   "language": "python",
   "name": "python3"
  },
  "language_info": {
   "codemirror_mode": {
    "name": "ipython",
    "version": 3
   },
   "file_extension": ".py",
   "mimetype": "text/x-python",
   "name": "python",
   "nbconvert_exporter": "python",
   "pygments_lexer": "ipython3",
   "version": "3.6.4"
  }
 },
 "nbformat": 4,
 "nbformat_minor": 2
}

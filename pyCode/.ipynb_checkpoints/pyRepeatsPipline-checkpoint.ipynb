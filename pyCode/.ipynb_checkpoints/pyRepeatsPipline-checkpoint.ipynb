{
 "cells": [
  {
   "cell_type": "markdown",
   "metadata": {},
   "source": [
    "# Python example \"RepeatsPipeline\":\n",
    "\n",
    "## inputs: \n",
    "### - PF0023_weights_py_input.txt \n",
    "- the output of the R code that has the unchanged sequence names/regions and repeat weights\n",
    "\n",
    "### - PF0023_2reps_py_input.txt \n",
    "- the output of the R code that has the 64 residue sequences and unchanged sequence names/regions\n",
    "\n",
    "## outputs:\n",
    "### - PF00023_newname_weights.txt \n",
    "- has plm.c readable sequence names and repeat weights\n",
    "\n",
    "### - PF00023_weights_plm_input.txt \n",
    "- just the repeat weights without the readable sequence names. \n",
    "- <span style=\"color:red\">weights input to the C code</span>.\n",
    "- I confirmed that it does not matter to use this method because the order is the same in the weights_newnames.txt and the input msa to plm.c\n",
    "\n",
    "### - PF00023_2reps_plm_input.txt \n",
    "- <span style=\"color:red\">MSA input to the plm.c</span> \n",
    "- has 64 residues and 91143 sequences\n",
    "\n",
    "###  - PF00023_submit.sh\n",
    "- runs plm.c "
   ]
  },
  {
   "cell_type": "code",
   "execution_count": 13,
   "metadata": {},
   "outputs": [],
   "source": [
    "# importing packages\n",
    "import re\n",
    "import os\n",
    "import pandas as pd\n",
    "import numpy as np\n",
    "import matplotlib.pyplot as plt"
   ]
  },
  {
   "cell_type": "code",
   "execution_count": 14,
   "metadata": {},
   "outputs": [],
   "source": [
    "def scale_01(a):\n",
    "    print('scale01\\nrange of the weights:',np.ptp(a))\n",
    "    return (a - np.min(a))/np.ptp(a)"
   ]
  },
  {
   "cell_type": "code",
   "execution_count": 15,
   "metadata": {},
   "outputs": [
    {
     "name": "stdout",
     "output_type": "stream",
     "text": [
      "/Users/adashaw/Dropbox (Harvard University)/Debbie-Ada/repeatsProject/\n"
     ]
    }
   ],
   "source": [
    "directory = os.getcwd().split('pyCode')[0]\n",
    "print(directory)"
   ]
  },
  {
   "cell_type": "code",
   "execution_count": 16,
   "metadata": {},
   "outputs": [
    {
     "name": "stdout",
     "output_type": "stream",
     "text": [
      "pyOutput directory already exists\n",
      "cOuptut directory already exists\n"
     ]
    }
   ],
   "source": [
    "# PARAMETERS: pfam\n",
    "# pfam = \"PF00023\"\n",
    "pfam_dir = 'PvLEA4_full_b0.35'\n",
    "pfam = 'PvLEA4'\n",
    "try:\n",
    "    os.mkdir(directory+pfam_dir+'/pyOutput/')\n",
    "except: \n",
    "    print('pyOutput directory already exists')\n",
    "try: \n",
    "    os.mkdir(directory+pfam_dir+'/cOutput/')\n",
    "except:    \n",
    "    print('cOuptut directory already exists')"
   ]
  },
  {
   "cell_type": "markdown",
   "metadata": {},
   "source": [
    "## repeat weights (option -rw)"
   ]
  },
  {
   "cell_type": "code",
   "execution_count": 17,
   "metadata": {
    "scrolled": false
   },
   "outputs": [
    {
     "name": "stderr",
     "output_type": "stream",
     "text": [
      "/Users/adashaw/anaconda3/lib/python3.7/site-packages/ipykernel_launcher.py:2: ParserWarning: Falling back to the 'python' engine because the 'c' engine does not support regex separators (separators > 1 char and different from '\\s+' are interpreted as regex); you can avoid this warning by specifying engine='python'.\n",
      "  \n"
     ]
    },
    {
     "name": "stdout",
     "output_type": "stream",
     "text": [
      "number of sequences: 11480\n",
      "scale01\n",
      "range of the weights: 2.013439690597051\n"
     ]
    }
   ],
   "source": [
    "# INPUT: PF0023_weights_py_input.txt\n",
    "df_repweights = pd.read_csv(directory+pfam_dir+'/rOutput/'+pfam+'_weights_py_input.txt',header=None,delimiter='\\s',names=['names','weights'])\n",
    "df_repweights['names']=df_repweights['names'].str.replace('\"','')\n",
    "df_repweights['sequence_id'] = df_repweights['names'].str.split(r\"/[\\d']\",n=1,expand=True)[0]\n",
    "tmp = 'whatever'\n",
    "tmp2 = np.zeros_like(df_repweights.weights.values,dtype=int)\n",
    "print('number of sequences: {}'.format(len(tmp2)))\n",
    "num = 0\n",
    "for (index,row) in df_repweights.iterrows():\n",
    "        if row.sequence_id != tmp:\n",
    "            num = 0\n",
    "            tmp = row.sequence_id\n",
    "        num += 1\n",
    "        tmp2[index] = num\n",
    "df_repweights['repeat_num'] = tmp2\n",
    "df_repweights['new_names'] = df_repweights['sequence_id'].map(str) +'_'+ df_repweights['repeat_num'].map(str)+'/1-64'\n",
    "name_dict=dict(zip(df_repweights.names.values,df_repweights.new_names.values))\n",
    "\n",
    "## OUTPUT: PF00023_newname_weights.txt\n",
    "df_repweights[['new_names','weights']].to_csv(directory+pfam_dir+'/pyOutput/'+pfam+'_newname_weights.txt',header=None,index=False)\n",
    "\n",
    "## OUTPUT: PF00023_weights_plm_input.txt\n",
    "df_repweights['weights'] = scale_01(df_repweights.weights.values)\n",
    "df_repweights[['weights']].to_csv(directory+pfam_dir+'/pyOutput/'+pfam+'_weights_plm_input.txt',header=None,index=False)\n",
    "\n",
    "## INPUT: PF0023_2reps_py_input.txt\n",
    "msa_file = directory+pfam_dir+'/rOutput/'+pfam+'_2reps_py_input.txt'\n",
    "with open(msa_file,'r') as file:\n",
    "    all_lines=file.readlines()\n",
    "for (index,lines) in enumerate(all_lines):\n",
    "    if lines.startswith('>'):\n",
    "        all_lines[index] = all_lines[index].replace(all_lines[index][1:-1],name_dict[all_lines[index][1:-1]])\n",
    "\n",
    "## OUTPUT: PF00023_2reps_plm_input.txt\n",
    "with open(directory+pfam_dir+'/pyOutput/'+pfam+'_2reps_plm_input.txt','w') as file:\n",
    "    file.writelines(all_lines)"
   ]
  },
  {
   "cell_type": "markdown",
   "metadata": {},
   "source": [
    "## henikoff*repeats weights (option -hw)"
   ]
  },
  {
   "cell_type": "code",
   "execution_count": 18,
   "metadata": {},
   "outputs": [
    {
     "name": "stderr",
     "output_type": "stream",
     "text": [
      "/Users/adashaw/anaconda3/lib/python3.7/site-packages/ipykernel_launcher.py:2: ParserWarning: Falling back to the 'python' engine because the 'c' engine does not support regex separators (separators > 1 char and different from '\\s+' are interpreted as regex); you can avoid this warning by specifying engine='python'.\n",
      "  \n"
     ]
    },
    {
     "name": "stdout",
     "output_type": "stream",
     "text": [
      "number of sequences: 11467\n",
      "scale01\n",
      "range of the weights: 0.08286880070726407\n"
     ]
    },
    {
     "data": {
      "image/png": "[encoded data removed]",
      "text/plain": [
       "<Figure size 432x288 with 2 Axes>"
      ]
     },
     "metadata": {
      "needs_background": "light"
     },
     "output_type": "display_data"
    }
   ],
   "source": [
    "# INPUT: PF0023_weights_py_input.txt\n",
    "df_henirepweights = pd.read_csv(directory+pfam_dir+'/rOutput/'+pfam+'_heniweights_py_input.txt',header=None,delimiter='\\s',names=['names','weights'])\n",
    "df_henirepweights['names']=df_henirepweights['names'].str.replace('\"','')\n",
    "df_henirepweights['sequence_id'] = df_henirepweights['names'].str.split(r\"/[\\d']\",n=1,expand=True)[0]\n",
    "tmp = 'whatever'\n",
    "tmp2 = np.zeros_like(df_henirepweights.weights.values,dtype=int)\n",
    "print('number of sequences: {}'.format(len(tmp2)))\n",
    "num = 0\n",
    "\n",
    "df_henirepweights['weights'] = scale_01(df_henirepweights.weights.values)\n",
    "\n",
    "for (index,row) in df_henirepweights.iterrows():\n",
    "        if row.sequence_id != tmp:\n",
    "            num = 0\n",
    "            tmp = row.sequence_id\n",
    "        num += 1\n",
    "        tmp2[index] = num\n",
    "df_henirepweights['repeat_num'] = tmp2\n",
    "df_henirepweights['new_names'] = df_henirepweights['sequence_id'].map(str) +'_'+ df_henirepweights['repeat_num'].map(str)+'/1-64'\n",
    "name_dict=dict(zip(df_henirepweights.names.values,df_henirepweights.new_names.values))\n",
    "\n",
    "## OUTPUT: PF00023_heniweights_plm_input.txt\n",
    "df_henirepweights[['weights']].to_csv(directory+pfam_dir+'/pyOutput/'+pfam+'_heniweights_plm_input.txt',header=None,index=False)"
   ]
  },
  {
   "cell_type": "markdown",
   "metadata": {},
   "source": [
    "## <span style = \"color:gray\" >just confirming code works - not part of \"pipeline\" </span>"
   ]
  },
  {
   "cell_type": "code",
   "execution_count": null,
   "metadata": {},
   "outputs": [],
   "source": [
    "# make sure the order of the msa matches the orders of the weights\n",
    "orderPreserved= True\n",
    "for (index,line) in enumerate(all_lines):\n",
    "    if (index%2==0):\n",
    "        if (line[1:-1]!=df_repweights.new_names.values[int(index/2)]):\n",
    "            orderPreserved=False\n",
    "            print(line[1:],df_repweights.new_names.values[int(index/2)])\n",
    "if orderPreserved:\n",
    "    print('success you idiot')"
   ]
  },
  {
   "cell_type": "code",
   "execution_count": null,
   "metadata": {},
   "outputs": [],
   "source": [
    "# set all repeat weights to 1 to see if the fast convergence still occurs\n",
    "df_oneweights = df_henirepweights.copy()\n",
    "df_oneweights['weights'] = np.ones_like(df_henirepweights.weights.values)\n",
    "df_oneweights['weights'].to_csv(directory+pfam+'/pyOutput/'+pfam+'_ones_plm_input.txt',header=None,index=False)\n"
   ]
  },
  {
   "cell_type": "code",
   "execution_count": null,
   "metadata": {},
   "outputs": [],
   "source": [
    "# confirm that same sequence id values are all clustered together should get an array with only 1\n",
    "\n",
    "np.unique(df_repweights[['sequence_id','repeat_num']].pivot_table(index=['sequence_id','repeat_num'],aggfunc='size').values)"
   ]
  }
 ],
 "metadata": {
  "kernelspec": {
   "display_name": "Python 3",
   "language": "python",
   "name": "python3"
  },
  "language_info": {
   "codemirror_mode": {
    "name": "ipython",
    "version": 3
   },
   "file_extension": ".py",
   "mimetype": "text/x-python",
   "name": "python",
   "nbconvert_exporter": "python",
   "pygments_lexer": "ipython3",
   "version": "3.7.1"
  }
 },
 "nbformat": 4,
 "nbformat_minor": 2
}
